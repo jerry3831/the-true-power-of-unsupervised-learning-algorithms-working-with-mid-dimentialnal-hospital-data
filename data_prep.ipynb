{
  "nbformat": 4,
  "nbformat_minor": 0,
  "metadata": {
    "colab": {
      "provenance": [],
      "mount_file_id": "1iUEHjLP8AQ5WAboiK_uZwPCyHEAdSrJJ",
      "authorship_tag": "ABX9TyNy13xc1SqUXgR5pzYiYMhC",
      "include_colab_link": true
    },
    "kernelspec": {
      "name": "python3",
      "display_name": "Python 3"
    },
    "language_info": {
      "name": "python"
    }
  },
  "cells": [
    {
      "cell_type": "markdown",
      "metadata": {
        "id": "view-in-github",
        "colab_type": "text"
      },
      "source": [
        "<a href=\"https://colab.research.google.com/github/jerry3831/the-true-power-of-unsupervised-learning-algorithms-working-with-mid-dimentialnal-hospital-data/blob/main/data_prep.ipynb\" target=\"_parent\"><img src=\"https://colab.research.google.com/assets/colab-badge.svg\" alt=\"Open In Colab\"/></a>"
      ]
    },
    {
      "cell_type": "code",
      "execution_count": 2,
      "metadata": {
        "id": "9E5MZsFE_R0A"
      },
      "outputs": [],
      "source": [
        "import pandas as pd\n",
        "import numpy as np\n",
        "from matplotlib import pyplot as plt\n",
        "%matplotlib inline\n",
        "import seaborn as sns"
      ]
    },
    {
      "cell_type": "code",
      "source": [
        "diabetic_data = pd.read_csv('/content/drive/MyDrive/diabetic_data.csv')\n",
        "print('COLUMN NAMES:\\n',diabetic_data.columns)\n",
        "print('HEAD: \\n',diabetic_data.head(4))\n",
        "print('TAIL:\\n',diabetic_data.tail(4))"
      ],
      "metadata": {
        "colab": {
          "base_uri": "https://localhost:8080/"
        },
        "id": "HcaRlvgFP8w-",
        "outputId": "dc588705-8000-4a01-da09-6f5d6450f89b"
      },
      "execution_count": 5,
      "outputs": [
        {
          "output_type": "stream",
          "name": "stdout",
          "text": [
            "COLUMN NAMES:\n",
            " Index(['encounter_id', 'patient_nbr', 'race', 'gender', 'age', 'weight',\n",
            "       'admission_type_id', 'discharge_disposition_id', 'admission_source_id',\n",
            "       'time_in_hospital', 'payer_code', 'medical_specialty',\n",
            "       'num_lab_procedures', 'num_procedures', 'num_medications',\n",
            "       'number_outpatient', 'number_emergency', 'number_inpatient', 'diag_1',\n",
            "       'diag_2', 'diag_3', 'number_diagnoses', 'max_glu_serum', 'A1Cresult',\n",
            "       'metformin', 'repaglinide', 'nateglinide', 'chlorpropamide',\n",
            "       'glimepiride', 'acetohexamide', 'glipizide', 'glyburide', 'tolbutamide',\n",
            "       'pioglitazone', 'rosiglitazone', 'acarbose', 'miglitol', 'troglitazone',\n",
            "       'tolazamide', 'examide', 'citoglipton', 'insulin',\n",
            "       'glyburide-metformin', 'glipizide-metformin',\n",
            "       'glimepiride-pioglitazone', 'metformin-rosiglitazone',\n",
            "       'metformin-pioglitazone', 'change', 'diabetesMed', 'readmitted'],\n",
            "      dtype='object')\n",
            "HEAD: \n",
            "    encounter_id  patient_nbr             race  gender      age weight  \\\n",
            "0       2278392      8222157        Caucasian  Female   [0-10)      ?   \n",
            "1        149190     55629189        Caucasian  Female  [10-20)      ?   \n",
            "2         64410     86047875  AfricanAmerican  Female  [20-30)      ?   \n",
            "3        500364     82442376        Caucasian    Male  [30-40)      ?   \n",
            "\n",
            "   admission_type_id  discharge_disposition_id  admission_source_id  \\\n",
            "0                  6                        25                    1   \n",
            "1                  1                         1                    7   \n",
            "2                  1                         1                    7   \n",
            "3                  1                         1                    7   \n",
            "\n",
            "   time_in_hospital  ... citoglipton insulin  glyburide-metformin  \\\n",
            "0                 1  ...          No      No                   No   \n",
            "1                 3  ...          No      Up                   No   \n",
            "2                 2  ...          No      No                   No   \n",
            "3                 2  ...          No      Up                   No   \n",
            "\n",
            "   glipizide-metformin  glimepiride-pioglitazone  metformin-rosiglitazone  \\\n",
            "0                   No                        No                       No   \n",
            "1                   No                        No                       No   \n",
            "2                   No                        No                       No   \n",
            "3                   No                        No                       No   \n",
            "\n",
            "   metformin-pioglitazone  change diabetesMed readmitted  \n",
            "0                      No      No          No         NO  \n",
            "1                      No      Ch         Yes        >30  \n",
            "2                      No      No         Yes         NO  \n",
            "3                      No      Ch         Yes         NO  \n",
            "\n",
            "[4 rows x 50 columns]\n",
            "TAIL:\n",
            "         encounter_id  patient_nbr             race  gender      age weight  \\\n",
            "101762     443847782     74694222  AfricanAmerican  Female  [80-90)      ?   \n",
            "101763     443854148     41088789        Caucasian    Male  [70-80)      ?   \n",
            "101764     443857166     31693671        Caucasian  Female  [80-90)      ?   \n",
            "101765     443867222    175429310        Caucasian    Male  [70-80)      ?   \n",
            "\n",
            "        admission_type_id  discharge_disposition_id  admission_source_id  \\\n",
            "101762                  1                         4                    5   \n",
            "101763                  1                         1                    7   \n",
            "101764                  2                         3                    7   \n",
            "101765                  1                         1                    7   \n",
            "\n",
            "        time_in_hospital  ... citoglipton insulin  glyburide-metformin  \\\n",
            "101762                 5  ...          No  Steady                   No   \n",
            "101763                 1  ...          No    Down                   No   \n",
            "101764                10  ...          No      Up                   No   \n",
            "101765                 6  ...          No      No                   No   \n",
            "\n",
            "        glipizide-metformin  glimepiride-pioglitazone  \\\n",
            "101762                   No                        No   \n",
            "101763                   No                        No   \n",
            "101764                   No                        No   \n",
            "101765                   No                        No   \n",
            "\n",
            "        metformin-rosiglitazone  metformin-pioglitazone  change diabetesMed  \\\n",
            "101762                       No                      No      No         Yes   \n",
            "101763                       No                      No      Ch         Yes   \n",
            "101764                       No                      No      Ch         Yes   \n",
            "101765                       No                      No      No          No   \n",
            "\n",
            "       readmitted  \n",
            "101762         NO  \n",
            "101763         NO  \n",
            "101764         NO  \n",
            "101765         NO  \n",
            "\n",
            "[4 rows x 50 columns]\n"
          ]
        }
      ]
    }
  ]
}